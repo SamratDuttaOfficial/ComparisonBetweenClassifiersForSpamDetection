{
 "cells": [
  {
   "cell_type": "code",
   "execution_count": 1,
   "metadata": {},
   "outputs": [],
   "source": [
    "#dataset used: https://www.kaggle.com/venky73/spam-mails-dataset\n",
    "#This dataset is collected from http://www2.aueb.gr/users/ion/data/enron-spam/. \n",
    "#I just used enron1 folder. It contains two folders of spam and ham. Each folder contains emails. I iterated to each text file of those folders and created a dataframe and written to a csv file."
   ]
  },
  {
   "cell_type": "code",
   "execution_count": 2,
   "metadata": {},
   "outputs": [],
   "source": [
    "#important packages\n",
    "import numpy as np\n",
    "import pandas as pd #for dataframe creation\n",
    "import string #for text pre processing\n",
    "import os\n",
    "\n",
    "#visualization\n",
    "import matplotlib as mpl\n",
    "import matplotlib.pyplot as plt\n",
    "%matplotlib inline\n",
    "import seaborn as sns\n",
    "\n",
    "#SKlearn for machine learning\n",
    "from sklearn.model_selection import train_test_split #splits test and train data\n",
    "from sklearn.metrics import classification_report, confusion_matrix, accuracy_score\n",
    "\n",
    "#neural language toolkit\n",
    "from nltk.stem import SnowballStemmer\n",
    "from nltk.corpus import stopwords\n",
    "\n",
    "#to calculate time\n",
    "import time"
   ]
  },
  {
   "cell_type": "code",
   "execution_count": 3,
   "metadata": {},
   "outputs": [],
   "source": [
    "#for Naive Bayes and various classifiers\n",
    "from sklearn.feature_extraction.text import CountVectorizer\n",
    "from sklearn.feature_extraction.text import TfidfVectorizer #we're not using it in this program, but we can.\n",
    "cv = CountVectorizer()\n",
    "tv = TfidfVectorizer(\"english\") #we're not using it in this program, but we can."
   ]
  },
  {
   "cell_type": "code",
   "execution_count": 4,
   "metadata": {},
   "outputs": [
    {
     "name": "stderr",
     "output_type": "stream",
     "text": [
      "Using TensorFlow backend.\n"
     ]
    }
   ],
   "source": [
    "#specially for NN\n",
    "from keras.preprocessing import sequence\n",
    "from sklearn.preprocessing import LabelEncoder\n",
    "from keras.models import Model\n",
    "from keras.layers import LSTM, Activation, Dense, Dropout, Input, Embedding\n",
    "from keras.optimizers import RMSprop\n",
    "from keras.preprocessing.text import Tokenizer\n",
    "from keras.utils import to_categorical\n",
    "from keras.callbacks import EarlyStopping"
   ]
  },
  {
   "cell_type": "code",
   "execution_count": 5,
   "metadata": {},
   "outputs": [],
   "source": [
    "#for various classifiers\n",
    "from sklearn.linear_model import LogisticRegression\n",
    "from sklearn.svm import SVC\n",
    "from sklearn.naive_bayes import MultinomialNB\n",
    "from sklearn.tree import DecisionTreeClassifier\n",
    "from sklearn.neighbors import KNeighborsClassifier\n",
    "from sklearn.ensemble import RandomForestClassifier\n",
    "from sklearn.ensemble import AdaBoostClassifier\n",
    "from sklearn.ensemble import BaggingClassifier\n",
    "from sklearn.ensemble import ExtraTreesClassifier\n",
    "from sklearn.metrics import accuracy_score"
   ]
  },
  {
   "cell_type": "code",
   "execution_count": 6,
   "metadata": {},
   "outputs": [
    {
     "data": {
      "text/html": [
       "<div>\n",
       "<style scoped>\n",
       "    .dataframe tbody tr th:only-of-type {\n",
       "        vertical-align: middle;\n",
       "    }\n",
       "\n",
       "    .dataframe tbody tr th {\n",
       "        vertical-align: top;\n",
       "    }\n",
       "\n",
       "    .dataframe thead th {\n",
       "        text-align: right;\n",
       "    }\n",
       "</style>\n",
       "<table border=\"1\" class=\"dataframe\">\n",
       "  <thead>\n",
       "    <tr style=\"text-align: right;\">\n",
       "      <th></th>\n",
       "      <th>text</th>\n",
       "      <th>spam</th>\n",
       "    </tr>\n",
       "  </thead>\n",
       "  <tbody>\n",
       "    <tr>\n",
       "      <th>0</th>\n",
       "      <td>Subject: naturally irresistible your corporate...</td>\n",
       "      <td>1</td>\n",
       "    </tr>\n",
       "    <tr>\n",
       "      <th>1</th>\n",
       "      <td>Subject: the stock trading gunslinger  fanny i...</td>\n",
       "      <td>1</td>\n",
       "    </tr>\n",
       "    <tr>\n",
       "      <th>2</th>\n",
       "      <td>Subject: unbelievable new homes made easy  im ...</td>\n",
       "      <td>1</td>\n",
       "    </tr>\n",
       "    <tr>\n",
       "      <th>3</th>\n",
       "      <td>Subject: 4 color printing special  request add...</td>\n",
       "      <td>1</td>\n",
       "    </tr>\n",
       "    <tr>\n",
       "      <th>4</th>\n",
       "      <td>Subject: do not have money , get software cds ...</td>\n",
       "      <td>1</td>\n",
       "    </tr>\n",
       "  </tbody>\n",
       "</table>\n",
       "</div>"
      ],
      "text/plain": [
       "                                                text  spam\n",
       "0  Subject: naturally irresistible your corporate...     1\n",
       "1  Subject: the stock trading gunslinger  fanny i...     1\n",
       "2  Subject: unbelievable new homes made easy  im ...     1\n",
       "3  Subject: 4 color printing special  request add...     1\n",
       "4  Subject: do not have money , get software cds ...     1"
      ]
     },
     "execution_count": 6,
     "metadata": {},
     "output_type": "execute_result"
    }
   ],
   "source": [
    "#Let's read the data from csv file. df is a dataframe. \n",
    "df = pd.read_csv('spammails.csv', encoding='latin-1')\n",
    "df.head()"
   ]
  },
  {
   "cell_type": "code",
   "execution_count": 7,
   "metadata": {},
   "outputs": [
    {
     "data": {
      "text/html": [
       "<div>\n",
       "<style scoped>\n",
       "    .dataframe tbody tr th:only-of-type {\n",
       "        vertical-align: middle;\n",
       "    }\n",
       "\n",
       "    .dataframe tbody tr th {\n",
       "        vertical-align: top;\n",
       "    }\n",
       "\n",
       "    .dataframe thead th {\n",
       "        text-align: right;\n",
       "    }\n",
       "</style>\n",
       "<table border=\"1\" class=\"dataframe\">\n",
       "  <thead>\n",
       "    <tr style=\"text-align: right;\">\n",
       "      <th></th>\n",
       "      <th>text</th>\n",
       "      <th>spam</th>\n",
       "      <th>length</th>\n",
       "    </tr>\n",
       "  </thead>\n",
       "  <tbody>\n",
       "    <tr>\n",
       "      <th>0</th>\n",
       "      <td>Subject: naturally irresistible your corporate...</td>\n",
       "      <td>1</td>\n",
       "      <td>1484</td>\n",
       "    </tr>\n",
       "    <tr>\n",
       "      <th>1</th>\n",
       "      <td>Subject: the stock trading gunslinger  fanny i...</td>\n",
       "      <td>1</td>\n",
       "      <td>598</td>\n",
       "    </tr>\n",
       "    <tr>\n",
       "      <th>2</th>\n",
       "      <td>Subject: unbelievable new homes made easy  im ...</td>\n",
       "      <td>1</td>\n",
       "      <td>448</td>\n",
       "    </tr>\n",
       "    <tr>\n",
       "      <th>3</th>\n",
       "      <td>Subject: 4 color printing special  request add...</td>\n",
       "      <td>1</td>\n",
       "      <td>500</td>\n",
       "    </tr>\n",
       "    <tr>\n",
       "      <th>4</th>\n",
       "      <td>Subject: do not have money , get software cds ...</td>\n",
       "      <td>1</td>\n",
       "      <td>235</td>\n",
       "    </tr>\n",
       "  </tbody>\n",
       "</table>\n",
       "</div>"
      ],
      "text/plain": [
       "                                                text  spam  length\n",
       "0  Subject: naturally irresistible your corporate...     1    1484\n",
       "1  Subject: the stock trading gunslinger  fanny i...     1     598\n",
       "2  Subject: unbelievable new homes made easy  im ...     1     448\n",
       "3  Subject: 4 color printing special  request add...     1     500\n",
       "4  Subject: do not have money , get software cds ...     1     235"
      ]
     },
     "execution_count": 7,
     "metadata": {},
     "output_type": "execute_result"
    }
   ],
   "source": [
    "df['length']=df['text'].apply(len)\n",
    "df.head()"
   ]
  },
  {
   "cell_type": "code",
   "execution_count": 8,
   "metadata": {},
   "outputs": [
    {
     "data": {
      "text/plain": [
       "<matplotlib.axes._subplots.AxesSubplot at 0x1b3003f7860>"
      ]
     },
     "execution_count": 8,
     "metadata": {},
     "output_type": "execute_result"
    },
    {
     "data": {
      "image/png": "[encoded data removed]",
      "text/plain": [
       "<Figure size 720x432 with 1 Axes>"
      ]
     },
     "metadata": {
      "needs_background": "light"
     },
     "output_type": "display_data"
    }
   ],
   "source": [
    "df['length'].plot(bins=50,kind='hist',figsize=(10,6))\n",
    "#showing frequency of text according to length"
   ]
  },
  {
   "cell_type": "code",
   "execution_count": 9,
   "metadata": {},
   "outputs": [
    {
     "data": {
      "text/plain": [
       "count     5728.000000\n",
       "mean      1556.768680\n",
       "std       2042.649812\n",
       "min         13.000000\n",
       "25%        508.750000\n",
       "50%        979.000000\n",
       "75%       1894.250000\n",
       "max      43952.000000\n",
       "Name: length, dtype: float64"
      ]
     },
     "execution_count": 9,
     "metadata": {},
     "output_type": "execute_result"
    }
   ],
   "source": [
    "df.length.describe()\n",
    "#data about text lengths"
   ]
  },
  {
   "cell_type": "code",
   "execution_count": 10,
   "metadata": {},
   "outputs": [
    {
     "data": {
      "text/plain": [
       "array([<matplotlib.axes._subplots.AxesSubplot object at 0x000001B302605748>,\n",
       "       <matplotlib.axes._subplots.AxesSubplot object at 0x000001B3024C2978>],\n",
       "      dtype=object)"
      ]
     },
     "execution_count": 10,
     "metadata": {},
     "output_type": "execute_result"
    },
    {
     "data": {
      "image/png": "[encoded data removed]",
      "text/plain": [
       "<Figure size 1080x360 with 2 Axes>"
      ]
     },
     "metadata": {
      "needs_background": "light"
     },
     "output_type": "display_data"
    }
   ],
   "source": [
    "mpl.rcParams['patch.force_edgecolor'] = True\n",
    "plt.style.use('seaborn-bright')\n",
    "df.hist(column='length', by='spam', bins=50,figsize=(15,5))\n",
    "#showing how length of text is related to spamminess"
   ]
  },
  {
   "cell_type": "code",
   "execution_count": 11,
   "metadata": {},
   "outputs": [],
   "source": [
    "#steps:\n",
    "#Preprecocessing\n",
    "#Crossvalidation (GridsearchCV)\n",
    "#Fitting\n",
    "#Predicting\n",
    "#Evaluating (test score)"
   ]
  },
  {
   "cell_type": "code",
   "execution_count": 12,
   "metadata": {},
   "outputs": [],
   "source": [
    "#Basic preprocessing for common NLP tasks includes converting text to lowercase and removing punctuation and stopwords.\n",
    "#Further steps, especially for text classification tasks, are:\n",
    "\n",
    "#1.Tokenization\n",
    "#2.Vectorization"
   ]
  },
  {
   "cell_type": "code",
   "execution_count": 13,
   "metadata": {},
   "outputs": [],
   "source": [
    "#Now define our tex precessing function. It will remove any punctuation and stopwords aswell.\n",
    "def text_process(text):\n",
    "    \n",
    "    text = text.translate(str.maketrans('', '', string.punctuation))\n",
    "    text = [word for word in text.split() if word.lower() not in stopwords.words('english')]\n",
    "    \n",
    "    return \" \".join(text)\n",
    "#processed the text"
   ]
  },
  {
   "cell_type": "code",
   "execution_count": 14,
   "metadata": {},
   "outputs": [],
   "source": [
    "text1= df['text'].copy() #for countvectorizer\n",
    "text2= df['text'].copy() #for the other vectorizer"
   ]
  },
  {
   "cell_type": "code",
   "execution_count": 15,
   "metadata": {},
   "outputs": [],
   "source": [
    "#Function to get vocabulary of a text.\n",
    "def GetVocabulary(data): \n",
    "    vocab_set = set([])\n",
    "    for document in data:\n",
    "        words = document.split()\n",
    "        for word in words:\n",
    "            vocab_set.add(word) \n",
    "    return list(vocab_set)"
   ]
  },
  {
   "cell_type": "code",
   "execution_count": 16,
   "metadata": {},
   "outputs": [
    {
     "name": "stdout",
     "output_type": "stream",
     "text": [
      "Number of all the unique words in data: 37441\n"
     ]
    }
   ],
   "source": [
    "#Finding out number of unique words in the data\n",
    "vocab_list = GetVocabulary(text2)\n",
    "print ('Number of all the unique words in data: ' + str(len(vocab_list)))"
   ]
  },
  {
   "cell_type": "code",
   "execution_count": 17,
   "metadata": {},
   "outputs": [
    {
     "name": "stdout",
     "output_type": "stream",
     "text": [
      "text vectorization from next step\n"
     ]
    }
   ],
   "source": [
    "'''\n",
    "Bag of words with CountVectorizer\n",
    "The Bag of Words representation:\n",
    "https://scikit-learn.org/stable/modules/feature_extraction.html#text-feature-extraction\n",
    "\n",
    "Text Analysis is a major application field for machine learning algorithms. However the raw data, a sequence of symbols cannot be fed directly to the algorithms themselves as most of them expect numerical feature vectors with a fixed size rather than the raw text documents with variable length.\n",
    "In order to address this, scikit-learn provides utilities for the most common ways to extract numerical features from text content, namely:\n",
    "\n",
    "Tokenization:\n",
    "tokenizing strings and giving an integer id for each possible token, for instance by using white-spaces and punctuation as token separators.\n",
    "\n",
    "Vectorization:\n",
    "counting the occurrences of tokens in each document.\n",
    "\n",
    "TF-IDF:\n",
    "normalizing and weighting with diminishing importance tokens that occur in the majority of samples / documents.\n",
    "\n",
    "Bag of Words:\n",
    "In this scheme, features and samples are defined as follows: each individual token occurrence frequency (normalized or not) is treated as a feature.\n",
    "the vector of all the token frequencies for a given document is considered a multivariate sample.\n",
    "A corpus of documents can thus be represented by a matrix with one row per document and one column per token (e.g. word) occurring in the corpus.\n",
    "We call vectorization the general process of turning a collection of text documents into numerical feature vectors.\n",
    "This specific strategy (tokenization, counting and normalization) is called the Bag of Words or “Bag of n-grams” representation.\n",
    "Documents are described by word occurrences while completely ignoring the relative position information of the words in the document.\n",
    "\n",
    "For futher details and example implementations see:\n",
    "https://en.wikipedia.org/wiki/Bag-of-words_model\n",
    "https://en.wikipedia.org/wiki/Document-term_matrix\n",
    "\n",
    "An Introduction to Bag-of-Words in NLP\n",
    "https://medium.com/greyatom/an-introduction-to-bag-of-words-in-nlp-ac967d43b428\n",
    "\n",
    "In this kernel we apply the CountVectorizer from sklearn as BOW model.\n",
    "https://scikit-learn.org/stable/modules/generated/sklearn.feature_extraction.text.CountVectorizer.html\n",
    "As tokenizer we use the remove_punctuation_and_stopwords function defined above\n",
    "'''\n",
    "print('text vectorization from next step')"
   ]
  },
  {
   "cell_type": "code",
   "execution_count": 18,
   "metadata": {},
   "outputs": [],
   "source": [
    "#vectorization of text using countvectorizer\n",
    "text1 = text1.apply(text_process)\n",
    "features_cv = cv.fit_transform(text1)"
   ]
  },
  {
   "cell_type": "code",
   "execution_count": 19,
   "metadata": {},
   "outputs": [],
   "source": [
    "#we're not using it in this program, but we can.\n",
    "text2 = text2.apply(text_process)\n",
    "features_tv = tv.fit_transform(text2)"
   ]
  },
  {
   "cell_type": "code",
   "execution_count": 20,
   "metadata": {},
   "outputs": [],
   "source": [
    "#splitting training and testing sets in two ways. in first one training set is 70%, in second one, it is 50%. (using countvectorizer data)\n",
    "features1_train, features1_test, labels1_train, labels1_test = train_test_split(features_cv, df['spam'], test_size=0.3, random_state=111)\n",
    "features2_train, features2_test, labels2_train, labels2_test = train_test_split(features_cv, df['spam'], test_size=0.5, random_state=111)"
   ]
  },
  {
   "cell_type": "code",
   "execution_count": 21,
   "metadata": {},
   "outputs": [],
   "source": [
    "#splitting training and testing sets in two ways. in first one training set is 70%, in second one, it is 50%. (using tfidf data)\n",
    "#We are not using this in this program but we can\n",
    "features3_train, features3_test, labels3_train, labels3_test = train_test_split(features_tv, df['spam'], test_size=0.3, random_state=111)\n",
    "features4_train, features4_test, labels4_train, labels4_test = train_test_split(features_tv, df['spam'], test_size=0.5, random_state=111)"
   ]
  },
  {
   "cell_type": "code",
   "execution_count": 22,
   "metadata": {},
   "outputs": [],
   "source": [
    "#two lists to save accuracy scores of each classifier and time taken to train the model\n",
    "pred_scores = []\n",
    "time_taken = []"
   ]
  },
  {
   "cell_type": "code",
   "execution_count": 23,
   "metadata": {},
   "outputs": [],
   "source": [
    "#Making functions for different classifiers (excluding NN)\n",
    "\n",
    "svc = SVC(kernel='sigmoid', gamma=1.0)\n",
    "knc = KNeighborsClassifier(n_neighbors=40) #KNN or KNC with fixed number of neighbours\n",
    "mnb = MultinomialNB(alpha=0.2)\n",
    "dtc = DecisionTreeClassifier(min_samples_split=7, random_state=111)\n",
    "lrc = LogisticRegression(solver='liblinear', penalty='l1')\n",
    "rfc = RandomForestClassifier(n_estimators=31, random_state=111)\n",
    "abc = AdaBoostClassifier(n_estimators=62, random_state=111)\n",
    "bc = BaggingClassifier(n_estimators=9, random_state=111)\n",
    "etc = ExtraTreesClassifier(n_estimators=9, random_state=111)"
   ]
  },
  {
   "cell_type": "code",
   "execution_count": 24,
   "metadata": {},
   "outputs": [],
   "source": [
    "#list of classifiers\n",
    "clfs = {'SVC' : svc,'KNN' : knc, 'MNB': mnb, 'DTC': dtc, 'LRC': lrc, 'RFC': rfc, 'ABC': abc, 'BC': bc, 'ETC': etc}"
   ]
  },
  {
   "cell_type": "code",
   "execution_count": 25,
   "metadata": {},
   "outputs": [],
   "source": [
    "#Using each classifier on training and testing data sets and appending accuracy scores and time taken on respective lists\n",
    "\n",
    "for k,v in clfs.items():\n",
    "    clf=v\n",
    "    #train dataset 1\n",
    "    start_time = time.time()\n",
    "    clf.fit(features1_train, labels1_train) #data is fit to the model\n",
    "    #clf.score(features1_test, labels1_test)\n",
    "    end_time=time.time()\n",
    "    time_taken_ds1 = end_time - start_time\n",
    "\n",
    "    # Evaluate the model on the training data set 1\n",
    "    pred = clf.predict(features1_train)\n",
    "    accuracy_score_train_ds1 = accuracy_score(labels1_train, pred)\n",
    "\n",
    "    # Evaluate the model on the test data set 1\n",
    "    pred = clf.predict(features1_test)\n",
    "    accuracy_score_test_ds1 = accuracy_score(labels1_test, pred)\n",
    "\n",
    "    #train dataset 2\n",
    "    start_time = time.time()\n",
    "    clf.fit(features2_train, labels2_train)\n",
    "    #clf.score(features2_test, labels2_test)\n",
    "    end_time=time.time()\n",
    "    time_taken_ds2 = end_time - start_time\n",
    "\n",
    "    # Evaluate the model on the training data set 1\n",
    "    pred = clf.predict(features2_train)\n",
    "    accuracy_score_train_ds2 = accuracy_score(labels2_train, pred)\n",
    "\n",
    "    # Evaluate the model on the test data set 1\n",
    "    pred = clf.predict(features2_test)\n",
    "    accuracy_score_test_ds2 = accuracy_score(labels2_test, pred)\n",
    "\n",
    "    pred_scores.append((k, accuracy_score_train_ds1, accuracy_score_test_ds1, accuracy_score_train_ds2, accuracy_score_test_ds2))\n",
    "    time_taken.append((k, time_taken_ds1, time_taken_ds2))"
   ]
  },
  {
   "cell_type": "code",
   "execution_count": 26,
   "metadata": {},
   "outputs": [],
   "source": [
    "#KNN/KNC with varying number of neighbours:\n",
    "#Setup arrays to store training and test accuracies\n",
    "neighbors = np.arange(1,40)\n",
    "train1_accuracy =np.empty(len(neighbors))\n",
    "test1_accuracy = np.empty(len(neighbors))\n",
    "train2_accuracy =np.empty(len(neighbors))\n",
    "test2_accuracy = np.empty(len(neighbors))\n",
    "\n",
    "for i,k in enumerate(neighbors):\n",
    "    #Setup a knn classifier with k neighbors\n",
    "    knc = KNeighborsClassifier(n_neighbors=k)\n",
    "    \n",
    "    #FOR DATASET 1\n",
    "    #Fit the model \n",
    "    knc.fit(features1_train, labels1_train)\n",
    "    \n",
    "    #Compute accuracy on the training set\n",
    "    train1_accuracy[i] = knc.score(features1_train, labels1_train)\n",
    "    \n",
    "    #Compute accuracy on the test set\n",
    "    test1_accuracy[i] = knc.score(features1_test, labels1_test) \n",
    "\n",
    "    #FOR DATASET 2\n",
    "    #Fit the model \n",
    "    knc.fit(features2_train, labels2_train)\n",
    "    \n",
    "    #Compute accuracy on the training set\n",
    "    train2_accuracy[i] = knc.score(features2_train, labels2_train)\n",
    "    \n",
    "    #Compute accuracy on the test set\n",
    "    test2_accuracy[i] = knc.score(features2_test, labels2_test) "
   ]
  },
  {
   "cell_type": "code",
   "execution_count": 27,
   "metadata": {},
   "outputs": [
    {
     "data": {
      "image/png": "[encoded data removed]",
      "text/plain": [
       "<Figure size 432x288 with 1 Axes>"
      ]
     },
     "metadata": {
      "needs_background": "light"
     },
     "output_type": "display_data"
    },
    {
     "data": {
      "image/png": "[encoded data removed]",
      "text/plain": [
       "<Figure size 432x288 with 1 Axes>"
      ]
     },
     "metadata": {
      "needs_background": "light"
     },
     "output_type": "display_data"
    }
   ],
   "source": [
    "plt.title('k-NN Varying number of neighbors - DATASET1')\n",
    "plt.plot(neighbors, test1_accuracy, label='Testing Accuracy')\n",
    "plt.plot(neighbors, train1_accuracy, label='Training accuracy')\n",
    "plt.legend()\n",
    "plt.xlabel('Number of neighbors')\n",
    "plt.ylabel('Accuracy')\n",
    "plt.show()\n",
    "\n",
    "plt.title('k-NN Varying number of neighbors - DATASET2')\n",
    "plt.plot(neighbors, test2_accuracy, label='Testing Accuracy')\n",
    "plt.plot(neighbors, train2_accuracy, label='Training accuracy')\n",
    "plt.legend()\n",
    "plt.xlabel('Number of neighbors')\n",
    "plt.ylabel('Accuracy')\n",
    "plt.show()"
   ]
  },
  {
   "cell_type": "code",
   "execution_count": 28,
   "metadata": {},
   "outputs": [],
   "source": [
    "#stuffs for NN classifier\n",
    "\n",
    "# Convert chars into integers\n",
    "\n",
    "def toInt(row):\n",
    "    xn = [ord(x) for x in row['text']]\n",
    "    return xn\n",
    "df_NN = df.copy()\n",
    "df_NN['Text_int'] = df_NN.apply(toInt, axis=1)"
   ]
  },
  {
   "cell_type": "code",
   "execution_count": 29,
   "metadata": {},
   "outputs": [
    {
     "data": {
      "text/html": [
       "<div>\n",
       "<style scoped>\n",
       "    .dataframe tbody tr th:only-of-type {\n",
       "        vertical-align: middle;\n",
       "    }\n",
       "\n",
       "    .dataframe tbody tr th {\n",
       "        vertical-align: top;\n",
       "    }\n",
       "\n",
       "    .dataframe thead th {\n",
       "        text-align: right;\n",
       "    }\n",
       "</style>\n",
       "<table border=\"1\" class=\"dataframe\">\n",
       "  <thead>\n",
       "    <tr style=\"text-align: right;\">\n",
       "      <th></th>\n",
       "      <th>text</th>\n",
       "      <th>spam</th>\n",
       "      <th>length</th>\n",
       "      <th>Text_int</th>\n",
       "    </tr>\n",
       "  </thead>\n",
       "  <tbody>\n",
       "    <tr>\n",
       "      <th>0</th>\n",
       "      <td>Subject: naturally irresistible your corporate...</td>\n",
       "      <td>1</td>\n",
       "      <td>1484</td>\n",
       "      <td>[83, 117, 98, 106, 101, 99, 116, 58, 32, 110, ...</td>\n",
       "    </tr>\n",
       "    <tr>\n",
       "      <th>1</th>\n",
       "      <td>Subject: the stock trading gunslinger  fanny i...</td>\n",
       "      <td>1</td>\n",
       "      <td>598</td>\n",
       "      <td>[83, 117, 98, 106, 101, 99, 116, 58, 32, 116, ...</td>\n",
       "    </tr>\n",
       "    <tr>\n",
       "      <th>2</th>\n",
       "      <td>Subject: unbelievable new homes made easy  im ...</td>\n",
       "      <td>1</td>\n",
       "      <td>448</td>\n",
       "      <td>[83, 117, 98, 106, 101, 99, 116, 58, 32, 117, ...</td>\n",
       "    </tr>\n",
       "    <tr>\n",
       "      <th>3</th>\n",
       "      <td>Subject: 4 color printing special  request add...</td>\n",
       "      <td>1</td>\n",
       "      <td>500</td>\n",
       "      <td>[83, 117, 98, 106, 101, 99, 116, 58, 32, 52, 3...</td>\n",
       "    </tr>\n",
       "    <tr>\n",
       "      <th>4</th>\n",
       "      <td>Subject: do not have money , get software cds ...</td>\n",
       "      <td>1</td>\n",
       "      <td>235</td>\n",
       "      <td>[83, 117, 98, 106, 101, 99, 116, 58, 32, 100, ...</td>\n",
       "    </tr>\n",
       "  </tbody>\n",
       "</table>\n",
       "</div>"
      ],
      "text/plain": [
       "                                                text  spam  length  \\\n",
       "0  Subject: naturally irresistible your corporate...     1    1484   \n",
       "1  Subject: the stock trading gunslinger  fanny i...     1     598   \n",
       "2  Subject: unbelievable new homes made easy  im ...     1     448   \n",
       "3  Subject: 4 color printing special  request add...     1     500   \n",
       "4  Subject: do not have money , get software cds ...     1     235   \n",
       "\n",
       "                                            Text_int  \n",
       "0  [83, 117, 98, 106, 101, 99, 116, 58, 32, 110, ...  \n",
       "1  [83, 117, 98, 106, 101, 99, 116, 58, 32, 116, ...  \n",
       "2  [83, 117, 98, 106, 101, 99, 116, 58, 32, 117, ...  \n",
       "3  [83, 117, 98, 106, 101, 99, 116, 58, 32, 52, 3...  \n",
       "4  [83, 117, 98, 106, 101, 99, 116, 58, 32, 100, ...  "
      ]
     },
     "execution_count": 29,
     "metadata": {},
     "output_type": "execute_result"
    }
   ],
   "source": [
    "df_NN.head()"
   ]
  },
  {
   "cell_type": "code",
   "execution_count": 30,
   "metadata": {},
   "outputs": [
    {
     "name": "stdout",
     "output_type": "stream",
     "text": [
      "Number of max value:  126\n"
     ]
    }
   ],
   "source": [
    "# Get max element from text (this will be used for normalization)\n",
    "df_NN['Max_of'] = df_NN['Text_int'].map(lambda x: max(x))\n",
    "\n",
    "print(\"Number of max value: \",df_NN['Max_of'].max())"
   ]
  },
  {
   "cell_type": "code",
   "execution_count": 31,
   "metadata": {},
   "outputs": [],
   "source": [
    "X = df_NN['Text_int'].values\n",
    "y = df_NN['spam'].values\n",
    "\n",
    "for i in range(len(df_NN)):\n",
    "    X[i] = np.asarray(X[i])"
   ]
  },
  {
   "cell_type": "code",
   "execution_count": 32,
   "metadata": {},
   "outputs": [],
   "source": [
    "# split the data : dataset 1\n",
    "X_train1, X_test1, y_train1, y_test1 = train_test_split(X, y, test_size=0.3)\n",
    "# split the data : dataset 2\n",
    "X_train2, X_test2, y_train2, y_test2 = train_test_split(X, y, test_size=0.5)"
   ]
  },
  {
   "cell_type": "code",
   "execution_count": 33,
   "metadata": {},
   "outputs": [],
   "source": [
    "# Change length of message to 100 chars\n",
    "max_review_length = 100\n",
    "\n",
    "X_train1 = sequence.pad_sequences(X_train1, maxlen=max_review_length)\n",
    "X_test1 = sequence.pad_sequences(X_test1, maxlen=max_review_length)\n",
    "\n",
    "X_train2 = sequence.pad_sequences(X_train2, maxlen=max_review_length)\n",
    "X_test2 = sequence.pad_sequences(X_test2, maxlen=max_review_length)"
   ]
  },
  {
   "cell_type": "code",
   "execution_count": 34,
   "metadata": {},
   "outputs": [],
   "source": [
    "X_train1 = X_train1 / 126\n",
    "X_test1 = X_test1 / 126\n",
    "\n",
    "X_train2 = X_train2 / 126\n",
    "X_test2 = X_test2 / 126"
   ]
  },
  {
   "cell_type": "code",
   "execution_count": 35,
   "metadata": {},
   "outputs": [],
   "source": [
    "#reshape all array\n",
    "\n",
    "X_test1 = X_test1.T\n",
    "X_train1 = X_train1.T\n",
    "y_test1 = y_test1.T\n",
    "y_train1 = y_train1.T\n",
    "\n",
    "X_test2 = X_test2.T\n",
    "X_train2 = X_train2.T\n",
    "y_test2 = y_test2.T\n",
    "y_train2 = y_train2.T"
   ]
  },
  {
   "cell_type": "code",
   "execution_count": 36,
   "metadata": {},
   "outputs": [
    {
     "data": {
      "text/plain": [
       "'\\nMathematical expression of the algorithm:\\n\\n- Initialize the parameters of the model\\n- Learn the parameters for the model by minimizing the cost  \\n- Use the learned parameters to make predictions (on the test set)\\n- Analyse the results and conclude\\n\\nMake helper function\\n'"
      ]
     },
     "execution_count": 36,
     "metadata": {},
     "output_type": "execute_result"
    }
   ],
   "source": [
    "'''\n",
    "Mathematical expression of the algorithm:\n",
    "\n",
    "- Initialize the parameters of the model\n",
    "- Learn the parameters for the model by minimizing the cost  \n",
    "- Use the learned parameters to make predictions (on the test set)\n",
    "- Analyse the results and conclude\n",
    "\n",
    "Make helper function\n",
    "'''"
   ]
  },
  {
   "cell_type": "code",
   "execution_count": 37,
   "metadata": {},
   "outputs": [],
   "source": [
    "def sigmoid(z):\n",
    "    \"\"\"\n",
    "    Compute the sigmoid of z\n",
    "\n",
    "    Arguments:\n",
    "    z -- A scalar or numpy array of any size.\n",
    "\n",
    "    Return:\n",
    "    s -- sigmoid(z)\n",
    "    \"\"\"\n",
    "    s = 1/(1+np.exp(-z))\n",
    "\n",
    "    return s"
   ]
  },
  {
   "cell_type": "code",
   "execution_count": 38,
   "metadata": {},
   "outputs": [],
   "source": [
    "def initialize_with_zeros(dim):\n",
    "    \"\"\"\n",
    "    This function creates a vector of zeros of shape (dim, 1) for w and initializes b to 0.\n",
    "    \n",
    "    Argument:\n",
    "    dim -- size of the w vector we want (or number of parameters in this case)\n",
    "    \n",
    "    Returns:\n",
    "    w -- initialized vector of shape (dim, 1)\n",
    "    b -- initialized scalar (corresponds to the bias)\n",
    "    \"\"\"\n",
    "    w = np.zeros((dim, 1))\n",
    "    b = float(0)\n",
    "\n",
    "    assert(w.shape == (dim, 1))\n",
    "    assert(isinstance(b, float) or isinstance(b, int))\n",
    "    \n",
    "    return w, b"
   ]
  },
  {
   "cell_type": "code",
   "execution_count": 39,
   "metadata": {},
   "outputs": [],
   "source": [
    "def propagate(w, b, X, Y):\n",
    "    \"\"\"\n",
    "    Implement the cost function and its gradient for the propagation explained above\n",
    "\n",
    "    Arguments:\n",
    "    w -- weights, a numpy array of size (num_px * num_px * 3, 1)\n",
    "    b -- bias, a scalar\n",
    "    X -- data of size (num_px * num_px * 3, number of examples)\n",
    "    Y -- true \"label\" vector (containing 0 if non-cat, 1 if cat) of size (1, number of examples)\n",
    "\n",
    "    Return:\n",
    "    cost -- negative log-likelihood cost for logistic regression\n",
    "    dw -- gradient of the loss with respect to w, thus same shape as w\n",
    "    db -- gradient of the loss with respect to b, thus same shape as b\n",
    "    \"\"\"\n",
    "    \n",
    "    m = X.shape[1]\n",
    "    \n",
    "    # FORWARD PROPAGATION (FROM X TO COST)\n",
    "    A = sigmoid(np.dot(w.T, X)+b)                                  # compute activation\n",
    "    cost = (-1/m) * (Y*np.log(A) + (1-Y)*np.log(1-A)).sum()            # compute cost\n",
    "    \n",
    "    # BACKWARD PROPAGATION (TO FIND GRAD)\n",
    "    dw = np.dot(X, (A-Y).T) / m\n",
    "    db = 1/m * (A-Y).sum()\n",
    "\n",
    "    assert(dw.shape == w.shape)\n",
    "    assert(db.dtype == float)\n",
    "    cost = np.squeeze(cost)\n",
    "    assert(cost.shape == ())\n",
    "    \n",
    "    grads = {\"dw\": dw,\n",
    "             \"db\": db}\n",
    "    \n",
    "    return grads, cost"
   ]
  },
  {
   "cell_type": "code",
   "execution_count": 40,
   "metadata": {},
   "outputs": [
    {
     "data": {
      "text/plain": [
       "'\\nOptimization:\\nInitialized Ours parameters.\\nCompute a cost function and its gradient.\\nUpdate the parameters using gradient descent.\\n'"
      ]
     },
     "execution_count": 40,
     "metadata": {},
     "output_type": "execute_result"
    }
   ],
   "source": [
    "'''\n",
    "Optimization:\n",
    "Initialized Ours parameters.\n",
    "Compute a cost function and its gradient.\n",
    "Update the parameters using gradient descent.\n",
    "'''"
   ]
  },
  {
   "cell_type": "code",
   "execution_count": 41,
   "metadata": {},
   "outputs": [],
   "source": [
    "def optimize(w, b, X, Y, num_iterations, learning_rate, print_cost = False):\n",
    "    \"\"\"\n",
    "    This function optimizes w and b by running a gradient descent algorithm\n",
    "    \n",
    "    Arguments:\n",
    "    w -- weights, a numpy array of size (num_px * num_px * 3, 1)\n",
    "    b -- bias, a scalar\n",
    "    X -- data of shape (num_px * num_px * 3, number of examples)\n",
    "    Y -- true \"label\" vector (containing 0 if non-cat, 1 if cat), of shape (1, number of examples)\n",
    "    num_iterations -- number of iterations of the optimization loop\n",
    "    learning_rate -- learning rate of the gradient descent update rule\n",
    "    print_cost -- True to print the loss every 100 steps\n",
    "    \n",
    "    Returns:\n",
    "    params -- dictionary containing the weights w and bias b\n",
    "    grads -- dictionary containing the gradients of the weights and bias with respect to the cost function\n",
    "    costs -- list of all the costs computed during the optimization, this will be used to plot the learning curve.\n",
    "    \"\"\"\n",
    "    \n",
    "    costs = []\n",
    "    \n",
    "    for i in range(num_iterations):\n",
    "        \n",
    "        \n",
    "        # Cost and gradient calculation\n",
    "        grads, cost = propagate(w, b, X, Y)\n",
    "        \n",
    "        # Retrieve derivatives from grads\n",
    "        dw = grads[\"dw\"]\n",
    "        db = grads[\"db\"]\n",
    "        \n",
    "        # update rule\n",
    "        w = w - learning_rate * dw\n",
    "        b = b - learning_rate * db\n",
    "        ### END CODE HERE ###\n",
    "        \n",
    "        # Record the costs\n",
    "        if i % 100 == 0:\n",
    "            costs.append(cost)\n",
    "        \n",
    "        # Print the cost every 100 training examples\n",
    "        if print_cost and i % 100 == 0:\n",
    "            print (\"Cost after iteration %i: %f\" %(i, cost))\n",
    "    \n",
    "    params = {\"w\": w,\n",
    "              \"b\": b}\n",
    "    \n",
    "    grads = {\"dw\": dw,\n",
    "             \"db\": db}\n",
    "    \n",
    "    return params, grads, costs"
   ]
  },
  {
   "cell_type": "code",
   "execution_count": 42,
   "metadata": {},
   "outputs": [],
   "source": [
    "def predict(w, b, X):\n",
    "    '''\n",
    "    Predict whether the label is 0 or 1 using learned logistic regression parameters (w, b)\n",
    "    \n",
    "    Arguments:\n",
    "    w -- weights, a numpy array of size (num_px * num_px * 3, 1)\n",
    "    b -- bias, a scalar\n",
    "    X -- data of size (num_px * num_px * 3, number of examples)\n",
    "    \n",
    "    Returns:\n",
    "    Y_prediction -- a numpy array (vector) containing all predictions (0/1) for the examples in X\n",
    "    '''\n",
    "    \n",
    "    m = X.shape[1]\n",
    "    Y_prediction = np.zeros((1,m))\n",
    "    w = w.reshape(X.shape[0], 1)\n",
    "    \n",
    "    # Compute vector \"A\" predicting the probabilities of a cat being present in the picture\n",
    "    A = sigmoid(np.dot(w.T, X) + b)\n",
    "           \n",
    "    # Convert probabilities A[0,i] to actual predictions p[0,i]\n",
    "    Y_prediction = np.around(A, decimals=0)\n",
    "    \n",
    "    assert(Y_prediction.shape == (1, m))\n",
    "    \n",
    "    return Y_prediction"
   ]
  },
  {
   "cell_type": "code",
   "execution_count": 43,
   "metadata": {},
   "outputs": [],
   "source": [
    "def model(X_train, Y_train, X_test, Y_test, num_iterations = 10000, learning_rate = 0.005, print_cost = False):\n",
    "    \"\"\"\n",
    "    Builds the logistic regression model by calling the function We've implemented previously\n",
    "    \n",
    "    Arguments:\n",
    "    X_train -- training set represented by a numpy array of shape (num_px * num_px * 3, m_train)\n",
    "    Y_train -- training labels represented by a numpy array (vector) of shape (1, m_train)\n",
    "    X_test -- test set represented by a numpy array of shape (num_px * num_px * 3, m_test)\n",
    "    Y_test -- test labels represented by a numpy array (vector) of shape (1, m_test)\n",
    "    num_iterations -- hyperparameter representing the number of iterations to optimize the parameters\n",
    "    learning_rate -- hyperparameter representing the learning rate used in the update rule of optimize()\n",
    "    print_cost -- Set to true to print the cost every 100 iterations\n",
    "    \n",
    "    Returns:\n",
    "    d -- dictionary containing information about the model.\n",
    "    \"\"\"\n",
    "\n",
    "    # initialize parameters with zeros\n",
    "    w, b = initialize_with_zeros(X_train.shape[0])\n",
    "\n",
    "    # Gradient descent\n",
    "    parameters, grads, costs = optimize(w, b, X_train, Y_train, num_iterations, learning_rate, print_cost)\n",
    "    \n",
    "    # Retrieve parameters w and b from dictionary \"parameters\"\n",
    "    w = parameters[\"w\"]\n",
    "    b = parameters[\"b\"]\n",
    "    \n",
    "    # Predict test/train set examples\n",
    "    Y_prediction_test = predict(w, b, X_test)\n",
    "    Y_prediction_train = predict(w, b, X_train)\n",
    "\n",
    "    # Print train/test Errors\n",
    "    print(\"train accuracy: {} %\".format(100 - np.mean(np.abs(Y_prediction_train - Y_train)) * 100))\n",
    "    print(\"test accuracy: {} %\".format(100 - np.mean(np.abs(Y_prediction_test - Y_test)) * 100))\n",
    "    \n",
    "    accuracy_score_train = 1- (np.mean(np.abs(Y_prediction_train - Y_train)))\n",
    "    accuracy_score_test = 1- (np.mean(np.abs(Y_prediction_test - Y_test)))\n",
    "    \n",
    "    d = {\"costs\": costs,\n",
    "         \"Y_prediction_test\": Y_prediction_test, \n",
    "         \"Y_prediction_train\" : Y_prediction_train,\n",
    "         \"accuracy_score_train\" : accuracy_score_train,\n",
    "         \"accuracy_score_test\" : accuracy_score_test,\n",
    "         \"w\" : w, \n",
    "         \"b\" : b,\n",
    "         \"learning_rate\" : learning_rate,\n",
    "         \"num_iterations\": num_iterations}\n",
    "    \n",
    "    return d"
   ]
  },
  {
   "cell_type": "code",
   "execution_count": 44,
   "metadata": {},
   "outputs": [
    {
     "name": "stdout",
     "output_type": "stream",
     "text": [
      "Cost after iteration 0: 0.693147\n",
      "Cost after iteration 100: 0.548719\n",
      "Cost after iteration 200: 0.545292\n",
      "Cost after iteration 300: 0.541977\n",
      "Cost after iteration 400: 0.538754\n",
      "Cost after iteration 500: 0.535622\n",
      "Cost after iteration 600: 0.532577\n",
      "Cost after iteration 700: 0.529617\n",
      "Cost after iteration 800: 0.526740\n",
      "Cost after iteration 900: 0.523943\n",
      "Cost after iteration 1000: 0.521223\n",
      "Cost after iteration 1100: 0.518578\n",
      "Cost after iteration 1200: 0.516007\n",
      "Cost after iteration 1300: 0.513506\n",
      "Cost after iteration 1400: 0.511073\n",
      "Cost after iteration 1500: 0.508707\n",
      "Cost after iteration 1600: 0.506405\n",
      "Cost after iteration 1700: 0.504165\n",
      "Cost after iteration 1800: 0.501986\n",
      "Cost after iteration 1900: 0.499865\n",
      "Cost after iteration 2000: 0.497801\n",
      "Cost after iteration 2100: 0.495792\n",
      "Cost after iteration 2200: 0.493836\n",
      "Cost after iteration 2300: 0.491932\n",
      "Cost after iteration 2400: 0.490077\n",
      "Cost after iteration 2500: 0.488271\n",
      "Cost after iteration 2600: 0.486511\n",
      "Cost after iteration 2700: 0.484797\n",
      "Cost after iteration 2800: 0.483127\n",
      "Cost after iteration 2900: 0.481499\n",
      "Cost after iteration 3000: 0.479913\n",
      "Cost after iteration 3100: 0.478367\n",
      "Cost after iteration 3200: 0.476859\n",
      "Cost after iteration 3300: 0.475389\n",
      "Cost after iteration 3400: 0.473955\n",
      "Cost after iteration 3500: 0.472557\n",
      "Cost after iteration 3600: 0.471192\n",
      "Cost after iteration 3700: 0.469861\n",
      "Cost after iteration 3800: 0.468562\n",
      "Cost after iteration 3900: 0.467294\n",
      "Cost after iteration 4000: 0.466056\n",
      "Cost after iteration 4100: 0.464848\n",
      "Cost after iteration 4200: 0.463667\n",
      "Cost after iteration 4300: 0.462515\n",
      "Cost after iteration 4400: 0.461389\n",
      "Cost after iteration 4500: 0.460289\n",
      "Cost after iteration 4600: 0.459214\n",
      "Cost after iteration 4700: 0.458163\n",
      "Cost after iteration 4800: 0.457136\n",
      "Cost after iteration 4900: 0.456132\n",
      "Cost after iteration 5000: 0.455151\n",
      "Cost after iteration 5100: 0.454191\n",
      "Cost after iteration 5200: 0.453252\n",
      "Cost after iteration 5300: 0.452333\n",
      "Cost after iteration 5400: 0.451435\n",
      "Cost after iteration 5500: 0.450555\n",
      "Cost after iteration 5600: 0.449695\n",
      "Cost after iteration 5700: 0.448852\n",
      "Cost after iteration 5800: 0.448027\n",
      "Cost after iteration 5900: 0.447219\n",
      "Cost after iteration 6000: 0.446428\n",
      "Cost after iteration 6100: 0.445653\n",
      "Cost after iteration 6200: 0.444894\n",
      "Cost after iteration 6300: 0.444151\n",
      "Cost after iteration 6400: 0.443422\n",
      "Cost after iteration 6500: 0.442707\n",
      "Cost after iteration 6600: 0.442007\n",
      "Cost after iteration 6700: 0.441321\n",
      "Cost after iteration 6800: 0.440647\n",
      "Cost after iteration 6900: 0.439987\n",
      "Cost after iteration 7000: 0.439340\n",
      "Cost after iteration 7100: 0.438705\n",
      "Cost after iteration 7200: 0.438081\n",
      "Cost after iteration 7300: 0.437470\n",
      "Cost after iteration 7400: 0.436870\n",
      "Cost after iteration 7500: 0.436281\n",
      "Cost after iteration 7600: 0.435702\n",
      "Cost after iteration 7700: 0.435134\n",
      "Cost after iteration 7800: 0.434577\n",
      "Cost after iteration 7900: 0.434029\n",
      "Cost after iteration 8000: 0.433491\n",
      "Cost after iteration 8100: 0.432963\n",
      "Cost after iteration 8200: 0.432444\n",
      "Cost after iteration 8300: 0.431934\n",
      "Cost after iteration 8400: 0.431432\n",
      "Cost after iteration 8500: 0.430940\n",
      "Cost after iteration 8600: 0.430455\n",
      "Cost after iteration 8700: 0.429979\n",
      "Cost after iteration 8800: 0.429510\n",
      "Cost after iteration 8900: 0.429050\n",
      "Cost after iteration 9000: 0.428597\n",
      "Cost after iteration 9100: 0.428151\n",
      "Cost after iteration 9200: 0.427713\n",
      "Cost after iteration 9300: 0.427281\n",
      "Cost after iteration 9400: 0.426857\n",
      "Cost after iteration 9500: 0.426439\n",
      "Cost after iteration 9600: 0.426028\n",
      "Cost after iteration 9700: 0.425623\n",
      "Cost after iteration 9800: 0.425225\n",
      "Cost after iteration 9900: 0.424832\n",
      "train accuracy: 81.29209279121976 %\n",
      "test accuracy: 79.6974985456661 %\n",
      "0.8129209279121976\n",
      "Cost after iteration 0: 0.693147\n",
      "Cost after iteration 100: 0.548148\n",
      "Cost after iteration 200: 0.544927\n",
      "Cost after iteration 300: 0.541809\n",
      "Cost after iteration 400: 0.538778\n",
      "Cost after iteration 500: 0.535829\n",
      "Cost after iteration 600: 0.532961\n",
      "Cost after iteration 700: 0.530171\n",
      "Cost after iteration 800: 0.527458\n",
      "Cost after iteration 900: 0.524817\n",
      "Cost after iteration 1000: 0.522249\n",
      "Cost after iteration 1100: 0.519749\n",
      "Cost after iteration 1200: 0.517317\n",
      "Cost after iteration 1300: 0.514950\n",
      "Cost after iteration 1400: 0.512646\n",
      "Cost after iteration 1500: 0.510403\n",
      "Cost after iteration 1600: 0.508220\n",
      "Cost after iteration 1700: 0.506095\n",
      "Cost after iteration 1800: 0.504025\n",
      "Cost after iteration 1900: 0.502009\n",
      "Cost after iteration 2000: 0.500046\n",
      "Cost after iteration 2100: 0.498134\n",
      "Cost after iteration 2200: 0.496271\n",
      "Cost after iteration 2300: 0.494455\n",
      "Cost after iteration 2400: 0.492686\n",
      "Cost after iteration 2500: 0.490962\n",
      "Cost after iteration 2600: 0.489281\n",
      "Cost after iteration 2700: 0.487643\n",
      "Cost after iteration 2800: 0.486045\n",
      "Cost after iteration 2900: 0.484487\n",
      "Cost after iteration 3000: 0.482967\n",
      "Cost after iteration 3100: 0.481484\n",
      "Cost after iteration 3200: 0.480038\n",
      "Cost after iteration 3300: 0.478626\n",
      "Cost after iteration 3400: 0.477249\n",
      "Cost after iteration 3500: 0.475904\n",
      "Cost after iteration 3600: 0.474591\n",
      "Cost after iteration 3700: 0.473309\n",
      "Cost after iteration 3800: 0.472057\n",
      "Cost after iteration 3900: 0.470835\n",
      "Cost after iteration 4000: 0.469640\n",
      "Cost after iteration 4100: 0.468473\n",
      "Cost after iteration 4200: 0.467332\n",
      "Cost after iteration 4300: 0.466218\n",
      "Cost after iteration 4400: 0.465128\n",
      "Cost after iteration 4500: 0.464063\n",
      "Cost after iteration 4600: 0.463021\n",
      "Cost after iteration 4700: 0.462002\n",
      "Cost after iteration 4800: 0.461005\n",
      "Cost after iteration 4900: 0.460030\n",
      "Cost after iteration 5000: 0.459076\n",
      "Cost after iteration 5100: 0.458142\n",
      "Cost after iteration 5200: 0.457229\n",
      "Cost after iteration 5300: 0.456334\n",
      "Cost after iteration 5400: 0.455458\n",
      "Cost after iteration 5500: 0.454600\n",
      "Cost after iteration 5600: 0.453760\n",
      "Cost after iteration 5700: 0.452937\n",
      "Cost after iteration 5800: 0.452131\n",
      "Cost after iteration 5900: 0.451341\n",
      "Cost after iteration 6000: 0.450566\n",
      "Cost after iteration 6100: 0.449807\n",
      "Cost after iteration 6200: 0.449063\n",
      "Cost after iteration 6300: 0.448334\n",
      "Cost after iteration 6400: 0.447619\n",
      "Cost after iteration 6500: 0.446917\n",
      "Cost after iteration 6600: 0.446229\n",
      "Cost after iteration 6700: 0.445554\n",
      "Cost after iteration 6800: 0.444891\n",
      "Cost after iteration 6900: 0.444241\n",
      "Cost after iteration 7000: 0.443603\n",
      "Cost after iteration 7100: 0.442977\n",
      "Cost after iteration 7200: 0.442362\n",
      "Cost after iteration 7300: 0.441758\n",
      "Cost after iteration 7400: 0.441165\n",
      "Cost after iteration 7500: 0.440582\n",
      "Cost after iteration 7600: 0.440010\n",
      "Cost after iteration 7700: 0.439448\n",
      "Cost after iteration 7800: 0.438896\n",
      "Cost after iteration 7900: 0.438353\n",
      "Cost after iteration 8000: 0.437819\n",
      "Cost after iteration 8100: 0.437295\n",
      "Cost after iteration 8200: 0.436779\n",
      "Cost after iteration 8300: 0.436272\n",
      "Cost after iteration 8400: 0.435774\n",
      "Cost after iteration 8500: 0.435284\n",
      "Cost after iteration 8600: 0.434801\n",
      "Cost after iteration 8700: 0.434327\n",
      "Cost after iteration 8800: 0.433860\n",
      "Cost after iteration 8900: 0.433401\n",
      "Cost after iteration 9000: 0.432949\n",
      "Cost after iteration 9100: 0.432504\n",
      "Cost after iteration 9200: 0.432066\n",
      "Cost after iteration 9300: 0.431634\n",
      "Cost after iteration 9400: 0.431210\n",
      "Cost after iteration 9500: 0.430792\n",
      "Cost after iteration 9600: 0.430380\n",
      "Cost after iteration 9700: 0.429974\n",
      "Cost after iteration 9800: 0.429575\n",
      "Cost after iteration 9900: 0.429181\n",
      "train accuracy: 80.58659217877096 %\n",
      "test accuracy: 80.27234636871509 %\n"
     ]
    }
   ],
   "source": [
    "start_time = time.time()\n",
    "d = model(X_train1, y_train1, X_test1, y_test1, num_iterations = 10000, learning_rate = 0.005, print_cost = True)\n",
    "end_time = time.time()\n",
    "time_taken_ds1 = end_time - start_time\n",
    "print(d['accuracy_score_train'])\n",
    "accuracy_score_train_ds1 = d['accuracy_score_train']\n",
    "accuracy_score_test_ds1 = d['accuracy_score_test']\n",
    "\n",
    "start_time = time.time()\n",
    "d = model(X_train2, y_train2, X_test2, y_test2, num_iterations = 10000, learning_rate = 0.005, print_cost = True)\n",
    "end_time = time.time()\n",
    "time_taken_ds2 = end_time - start_time\n",
    "accuracy_score_train_ds2 = d['accuracy_score_train']\n",
    "accuracy_score_test_ds2 = d['accuracy_score_test']\n",
    "\n",
    "pred_scores.append(('NN', accuracy_score_train_ds1, accuracy_score_test_ds1, accuracy_score_train_ds1, accuracy_score_test_ds1))\n",
    "time_taken.append(('NN', time_taken_ds1, time_taken_ds2))"
   ]
  },
  {
   "cell_type": "code",
   "execution_count": 45,
   "metadata": {},
   "outputs": [
    {
     "data": {
      "text/html": [
       "<div>\n",
       "<style scoped>\n",
       "    .dataframe tbody tr th:only-of-type {\n",
       "        vertical-align: middle;\n",
       "    }\n",
       "\n",
       "    .dataframe tbody tr th {\n",
       "        vertical-align: top;\n",
       "    }\n",
       "\n",
       "    .dataframe thead th {\n",
       "        text-align: right;\n",
       "    }\n",
       "</style>\n",
       "<table border=\"1\" class=\"dataframe\">\n",
       "  <thead>\n",
       "    <tr style=\"text-align: right;\">\n",
       "      <th></th>\n",
       "      <th>Classifier</th>\n",
       "      <th>Acc Score on Train Dataset 1</th>\n",
       "      <th>Acc Score on Test Dataset 1</th>\n",
       "      <th>Acc Score on Train Dataset 2</th>\n",
       "      <th>Acc Score on Test Dataset 2</th>\n",
       "    </tr>\n",
       "  </thead>\n",
       "  <tbody>\n",
       "    <tr>\n",
       "      <th>0</th>\n",
       "      <td>RFC</td>\n",
       "      <td>1.000000</td>\n",
       "      <td>0.980803</td>\n",
       "      <td>1.000000</td>\n",
       "      <td>0.976257</td>\n",
       "    </tr>\n",
       "    <tr>\n",
       "      <th>1</th>\n",
       "      <td>ABC</td>\n",
       "      <td>0.986031</td>\n",
       "      <td>0.972077</td>\n",
       "      <td>0.993017</td>\n",
       "      <td>0.971369</td>\n",
       "    </tr>\n",
       "    <tr>\n",
       "      <th>2</th>\n",
       "      <td>MNB</td>\n",
       "      <td>0.998254</td>\n",
       "      <td>0.992437</td>\n",
       "      <td>0.999302</td>\n",
       "      <td>0.990223</td>\n",
       "    </tr>\n",
       "    <tr>\n",
       "      <th>3</th>\n",
       "      <td>LRC</td>\n",
       "      <td>0.998254</td>\n",
       "      <td>0.983130</td>\n",
       "      <td>0.998953</td>\n",
       "      <td>0.978701</td>\n",
       "    </tr>\n",
       "    <tr>\n",
       "      <th>4</th>\n",
       "      <td>DTC</td>\n",
       "      <td>0.996258</td>\n",
       "      <td>0.949971</td>\n",
       "      <td>0.997556</td>\n",
       "      <td>0.953212</td>\n",
       "    </tr>\n",
       "    <tr>\n",
       "      <th>5</th>\n",
       "      <td>KNN</td>\n",
       "      <td>0.838364</td>\n",
       "      <td>0.841768</td>\n",
       "      <td>0.834148</td>\n",
       "      <td>0.825768</td>\n",
       "    </tr>\n",
       "    <tr>\n",
       "      <th>6</th>\n",
       "      <td>SVC</td>\n",
       "      <td>0.831629</td>\n",
       "      <td>0.838278</td>\n",
       "      <td>0.830307</td>\n",
       "      <td>0.842179</td>\n",
       "    </tr>\n",
       "    <tr>\n",
       "      <th>7</th>\n",
       "      <td>ETC</td>\n",
       "      <td>1.000000</td>\n",
       "      <td>0.972659</td>\n",
       "      <td>1.000000</td>\n",
       "      <td>0.953561</td>\n",
       "    </tr>\n",
       "    <tr>\n",
       "      <th>8</th>\n",
       "      <td>BC</td>\n",
       "      <td>0.996009</td>\n",
       "      <td>0.958697</td>\n",
       "      <td>0.997556</td>\n",
       "      <td>0.959497</td>\n",
       "    </tr>\n",
       "    <tr>\n",
       "      <th>9</th>\n",
       "      <td>NN</td>\n",
       "      <td>0.812921</td>\n",
       "      <td>0.796975</td>\n",
       "      <td>0.812921</td>\n",
       "      <td>0.796975</td>\n",
       "    </tr>\n",
       "  </tbody>\n",
       "</table>\n",
       "</div>"
      ],
      "text/plain": [
       "  Classifier  Acc Score on Train Dataset 1  Acc Score on Test Dataset 1  \\\n",
       "0        RFC                      1.000000                     0.980803   \n",
       "1        ABC                      0.986031                     0.972077   \n",
       "2        MNB                      0.998254                     0.992437   \n",
       "3        LRC                      0.998254                     0.983130   \n",
       "4        DTC                      0.996258                     0.949971   \n",
       "5        KNN                      0.838364                     0.841768   \n",
       "6        SVC                      0.831629                     0.838278   \n",
       "7        ETC                      1.000000                     0.972659   \n",
       "8         BC                      0.996009                     0.958697   \n",
       "9         NN                      0.812921                     0.796975   \n",
       "\n",
       "   Acc Score on Train Dataset 2  Acc Score on Test Dataset 2  \n",
       "0                      1.000000                     0.976257  \n",
       "1                      0.993017                     0.971369  \n",
       "2                      0.999302                     0.990223  \n",
       "3                      0.998953                     0.978701  \n",
       "4                      0.997556                     0.953212  \n",
       "5                      0.834148                     0.825768  \n",
       "6                      0.830307                     0.842179  \n",
       "7                      1.000000                     0.953561  \n",
       "8                      0.997556                     0.959497  \n",
       "9                      0.812921                     0.796975  "
      ]
     },
     "execution_count": 45,
     "metadata": {},
     "output_type": "execute_result"
    }
   ],
   "source": [
    "df_scores = pd.DataFrame(pred_scores, columns=['Classifier', 'Acc Score on Train Dataset 1', 'Acc Score on Test Dataset 1', 'Acc Score on Train Dataset 2', 'Acc Score on Test Dataset 2'])\n",
    "df_scores"
   ]
  },
  {
   "cell_type": "code",
   "execution_count": 46,
   "metadata": {},
   "outputs": [
    {
     "data": {
      "text/html": [
       "<div>\n",
       "<style scoped>\n",
       "    .dataframe tbody tr th:only-of-type {\n",
       "        vertical-align: middle;\n",
       "    }\n",
       "\n",
       "    .dataframe tbody tr th {\n",
       "        vertical-align: top;\n",
       "    }\n",
       "\n",
       "    .dataframe thead th {\n",
       "        text-align: right;\n",
       "    }\n",
       "</style>\n",
       "<table border=\"1\" class=\"dataframe\">\n",
       "  <thead>\n",
       "    <tr style=\"text-align: right;\">\n",
       "      <th></th>\n",
       "      <th>Classifier</th>\n",
       "      <th>Time Taken on Train Dataset 1</th>\n",
       "      <th>Time Taken on Train Dataset 2</th>\n",
       "    </tr>\n",
       "  </thead>\n",
       "  <tbody>\n",
       "    <tr>\n",
       "      <th>0</th>\n",
       "      <td>RFC</td>\n",
       "      <td>1.071262</td>\n",
       "      <td>0.740037</td>\n",
       "    </tr>\n",
       "    <tr>\n",
       "      <th>1</th>\n",
       "      <td>ABC</td>\n",
       "      <td>5.723159</td>\n",
       "      <td>3.837648</td>\n",
       "    </tr>\n",
       "    <tr>\n",
       "      <th>2</th>\n",
       "      <td>MNB</td>\n",
       "      <td>0.005950</td>\n",
       "      <td>0.005978</td>\n",
       "    </tr>\n",
       "    <tr>\n",
       "      <th>3</th>\n",
       "      <td>LRC</td>\n",
       "      <td>0.082332</td>\n",
       "      <td>0.062793</td>\n",
       "    </tr>\n",
       "    <tr>\n",
       "      <th>4</th>\n",
       "      <td>DTC</td>\n",
       "      <td>0.486432</td>\n",
       "      <td>0.307635</td>\n",
       "    </tr>\n",
       "    <tr>\n",
       "      <th>5</th>\n",
       "      <td>KNN</td>\n",
       "      <td>0.001998</td>\n",
       "      <td>0.001994</td>\n",
       "    </tr>\n",
       "    <tr>\n",
       "      <th>6</th>\n",
       "      <td>SVC</td>\n",
       "      <td>2.309323</td>\n",
       "      <td>1.182775</td>\n",
       "    </tr>\n",
       "    <tr>\n",
       "      <th>7</th>\n",
       "      <td>ETC</td>\n",
       "      <td>0.653671</td>\n",
       "      <td>0.496015</td>\n",
       "    </tr>\n",
       "    <tr>\n",
       "      <th>8</th>\n",
       "      <td>BC</td>\n",
       "      <td>3.557896</td>\n",
       "      <td>2.278205</td>\n",
       "    </tr>\n",
       "    <tr>\n",
       "      <th>9</th>\n",
       "      <td>NN</td>\n",
       "      <td>4.962340</td>\n",
       "      <td>3.870528</td>\n",
       "    </tr>\n",
       "  </tbody>\n",
       "</table>\n",
       "</div>"
      ],
      "text/plain": [
       "  Classifier  Time Taken on Train Dataset 1  Time Taken on Train Dataset 2\n",
       "0        RFC                       1.071262                       0.740037\n",
       "1        ABC                       5.723159                       3.837648\n",
       "2        MNB                       0.005950                       0.005978\n",
       "3        LRC                       0.082332                       0.062793\n",
       "4        DTC                       0.486432                       0.307635\n",
       "5        KNN                       0.001998                       0.001994\n",
       "6        SVC                       2.309323                       1.182775\n",
       "7        ETC                       0.653671                       0.496015\n",
       "8         BC                       3.557896                       2.278205\n",
       "9         NN                       4.962340                       3.870528"
      ]
     },
     "execution_count": 46,
     "metadata": {},
     "output_type": "execute_result"
    }
   ],
   "source": [
    "df_time = pd.DataFrame(time_taken, columns=['Classifier', 'Time Taken on Train Dataset 1', 'Time Taken on Train Dataset 2'])\n",
    "df_time"
   ]
  },
  {
   "cell_type": "code",
   "execution_count": 47,
   "metadata": {},
   "outputs": [
    {
     "data": {
      "text/plain": [
       "<matplotlib.legend.Legend at 0x1b302ee4e80>"
      ]
     },
     "execution_count": 47,
     "metadata": {},
     "output_type": "execute_result"
    },
    {
     "data": {
      "image/png": "[encoded data removed]",
      "text/plain": [
       "<Figure size 1080x504 with 1 Axes>"
      ]
     },
     "metadata": {
      "needs_background": "light"
     },
     "output_type": "display_data"
    }
   ],
   "source": [
    "df_scores.plot(kind='bar', ylim=(0.7,1.02), figsize=(15,7), align='center', colormap=\"Accent\", y=['Acc Score on Train Dataset 1', 'Acc Score on Test Dataset 1', 'Acc Score on Train Dataset 2', 'Acc Score on Test Dataset 2'])\n",
    "MLlabels=df_scores['Classifier']\n",
    "plt.xticks(np.arange(10), MLlabels)\n",
    "plt.ylabel('Accuracy Score')\n",
    "plt.title('Distribution by Classifier')\n",
    "plt.legend(bbox_to_anchor=(1.05, 1), loc=2, borderaxespad=0.)"
   ]
  },
  {
   "cell_type": "code",
   "execution_count": 48,
   "metadata": {},
   "outputs": [
    {
     "data": {
      "text/plain": [
       "<matplotlib.legend.Legend at 0x1b302eda358>"
      ]
     },
     "execution_count": 48,
     "metadata": {},
     "output_type": "execute_result"
    },
    {
     "data": {
      "image/png": "[encoded data removed]",
      "text/plain": [
       "<Figure size 792x360 with 1 Axes>"
      ]
     },
     "metadata": {
      "needs_background": "light"
     },
     "output_type": "display_data"
    }
   ],
   "source": [
    "df_time.plot(kind='bar', ylim=(0,8), figsize=(11,5), align='center', colormap=\"Accent\", y=['Time Taken on Train Dataset 1', 'Time Taken on Train Dataset 2'])\n",
    "MLlabels=df_time['Classifier']\n",
    "plt.xticks(np.arange(10), MLlabels)\n",
    "plt.ylabel('Accuracy Score')\n",
    "plt.title('Distribution by Classifier')\n",
    "plt.legend(bbox_to_anchor=(1.05, 1), loc=2, borderaxespad=0.)"
   ]
  }
 ],
 "metadata": {
  "kernelspec": {
   "display_name": "Python 3",
   "language": "python",
   "name": "python3"
  },
  "language_info": {
   "codemirror_mode": {
    "name": "ipython",
    "version": 3
   },
   "file_extension": ".py",
   "mimetype": "text/x-python",
   "name": "python",
   "nbconvert_exporter": "python",
   "pygments_lexer": "ipython3",
   "version": "3.5.2"
  }
 },
 "nbformat": 4,
 "nbformat_minor": 4
}
